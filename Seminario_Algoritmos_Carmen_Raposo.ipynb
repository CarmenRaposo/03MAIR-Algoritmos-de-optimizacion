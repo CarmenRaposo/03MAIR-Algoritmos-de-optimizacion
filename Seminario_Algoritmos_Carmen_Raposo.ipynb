{
  "nbformat": 4,
  "nbformat_minor": 0,
  "metadata": {
    "colab": {
      "name": "Seminario - Algoritmos - Carmen_Raposo.ipynb",
      "version": "0.3.2",
      "provenance": [],
      "collapsed_sections": [],
      "include_colab_link": true
    },
    "kernelspec": {
      "name": "python3",
      "display_name": "Python 3"
    }
  },
  "cells": [
    {
      "cell_type": "markdown",
      "metadata": {
        "id": "view-in-github",
        "colab_type": "text"
      },
      "source": [
        "<a href=\"https://colab.research.google.com/github/CarmenRaposo/03MAIR-Algoritmos-de-optimizacion/blob/master/Seminario_Algoritmos_Carmen_Raposo.ipynb\" target=\"_parent\"><img src=\"https://colab.research.google.com/assets/colab-badge.svg\" alt=\"Open In Colab\"/></a>"
      ]
    },
    {
      "metadata": {
        "id": "hVbXYX-RfPWh",
        "colab_type": "text"
      },
      "cell_type": "markdown",
      "source": [
        "# Algoritmos de optimización - Seminario<br>\n",
        "Nombre y Apellidos:  Carmen Raposo Jiménez <br>\n",
        "Url: https://github.com/CarmenRaposo/03MAIR-Algoritmos-de-optimizacion/tree/master/SEMINARIO<br>\n",
        "Problema:\n",
        ">3. <b>Combinar cifras y operaciones</b>\n",
        "\n",
        "Descripción del problema:\n",
        "\n",
        "Disponemos de las 9 cifras del 1 al 9 (excluimos el cero) y de los 4 signos básicos de las\n",
        "operaciones fundamentales: suma(+), resta(-), multiplicación(*) y división(/).<br>\n",
        "Debemos **combinarlos alternativamente sin repetir ninguno de ellos** para obtener una cantidad dada. \n",
        "\n",
        "\n",
        "(*) La respuesta es obligatoria\n",
        "\n",
        "\n",
        "\n",
        "\n",
        "\n",
        "                                        "
      ]
    },
    {
      "metadata": {
        "id": "3_-exlrTgLd-",
        "colab_type": "text"
      },
      "cell_type": "markdown",
      "source": [
        "(*)¿Cuantas posibilidades hay sin tener en cuenta las restricciones?<br>\n",
        "\n",
        "\n",
        "\n",
        "¿Cuantas posibilidades hay teniendo en cuenta todas las restricciones.\n",
        "\n",
        "\n"
      ]
    },
    {
      "metadata": {
        "id": "WfCUqJyKhPcw",
        "colab_type": "text"
      },
      "cell_type": "markdown",
      "source": [
        "**Respuesta**"
      ]
    },
    {
      "metadata": {
        "id": "uIEYIjie25IM",
        "colab_type": "text"
      },
      "cell_type": "markdown",
      "source": [
        "* **Sin** tener en cuenta las **restricciones** serían: $9^5 · 4! = 1 417 176$ siendo el $9^5$ correspondiente a que podemos escoger cualquiera de los 9 números en cada posición, y el $4!$ a la permutación de los cuatro operadores básicos.\n",
        "\n",
        "* **Con** la **resticción** de que no se pueda repetir ningún número sería $9·8·7·6·5 · 4! = 9! = 362880$ soluciones posibles.\n",
        "\n",
        "\n"
      ]
    },
    {
      "metadata": {
        "id": "dzynfVJahHoY",
        "colab_type": "text"
      },
      "cell_type": "markdown",
      "source": [
        "Modelo para el espacio de soluciones<br>\n",
        "(*) ¿Cual es la estructura de datos que mejor se adapta al problema? Argumentalo.(Es posible que hayas elegido una al principio y veas la necesidad de cambiar, arguentalo)\n"
      ]
    },
    {
      "metadata": {
        "id": "xFIJrOwKi2Ti",
        "colab_type": "text"
      },
      "cell_type": "markdown",
      "source": [
        "**Respuesta**"
      ]
    },
    {
      "metadata": {
        "id": "mLORfYGX4RKg",
        "colab_type": "text"
      },
      "cell_type": "markdown",
      "source": [
        "* Los números a usar serán representados mediante una tupla de 5 números, puediendo ser estos del 1-9 y distintos, como se indica en el enunciado.\n",
        "* Respecto a los operadores, se comencó con todas las posibles combinaciones de los mismos ($4!$ combinaciones) aunque para fuerza bruta con 4 es suficiente quedando así todas las posibles combinaciones cubiertas (ya que se iteran sobre los números y sus posiciones, no sobre los operadores)"
      ]
    },
    {
      "metadata": {
        "id": "7Z9U2W7bi-XS",
        "colab_type": "text"
      },
      "cell_type": "markdown",
      "source": [
        "Según el modelo para el espacio de soluciones<br>\n",
        "(*)¿Cual es la función objetivo?\n",
        "\n",
        "(*)¿Es un problema de maximización o minimización?"
      ]
    },
    {
      "metadata": {
        "id": "hBalWLM7j1_d",
        "colab_type": "text"
      },
      "cell_type": "markdown",
      "source": [
        "**Respuesta**"
      ]
    },
    {
      "metadata": {
        "id": "EqKnv-Vz5LvW",
        "colab_type": "text"
      },
      "cell_type": "markdown",
      "source": [
        "No tiene función objetivo como tal, y por tanto tampoco podemos clasificarlo como un problema de maximización o minimización, puesto que se basa en encontrar soluciones. Lo que sí podemos determinar es que números máximo y mínimo podemos alcanzar y sí todos los enteros comprendidos entre ambos se pueden alcanzar de igual forma (se verá más adelante)"
      ]
    },
    {
      "metadata": {
        "id": "rlnTYgY1j6I2",
        "colab_type": "text"
      },
      "cell_type": "markdown",
      "source": [
        "Diseña un algoritmo para resolver el problema por fuerza bruta"
      ]
    },
    {
      "metadata": {
        "id": "70rDgxYXkC8r",
        "colab_type": "text"
      },
      "cell_type": "markdown",
      "source": [
        "**Respuesta**"
      ]
    },
    {
      "metadata": {
        "id": "kO6dqj917Nau",
        "colab_type": "text"
      },
      "cell_type": "markdown",
      "source": [
        "Aunque se especificaba que con encontrar una única solución era suficiente y podíamos para el algoritmo en ese punto, yo personalmente he decidido generar la lista completa de soluciones ya que me parece interesante ver el total de formas posibles mediante las que se pueden representar un mismo número y que, por otra parte, no supone un gran coste de tiempo."
      ]
    },
    {
      "metadata": {
        "id": "jne7C2Dy7fd1",
        "colab_type": "code",
        "colab": {}
      },
      "cell_type": "code",
      "source": [
        "import time\n",
        "\n",
        "#Auxiliar function to get the total time of processing of a function\n",
        "def timing(f):\n",
        "  #Calculate the elapsed time during a function \n",
        "    def wrap(*args):\n",
        "        time1 = time.time()\n",
        "        ret = f(*args)\n",
        "        time2 = time.time()\n",
        "        print('{:s} ha tardado {:.3f} ms'.format(f.__name__, (time2-time1)*1000.0))\n",
        "\n",
        "        return ret\n",
        "    return wrap"
      ],
      "execution_count": 0,
      "outputs": []
    },
    {
      "metadata": {
        "id": "CJb5sQ0qkENy",
        "colab_type": "code",
        "colab": {}
      },
      "cell_type": "code",
      "source": [
        "def get_num (N):\n",
        "  \"\"\"Get the descomposition of the number N given based on the four basic operators\n",
        "  +, - , * and / and with numbers from 1 to 9 without repeating any of them in\n",
        "  the expression.\n",
        "  N: number given as input of the function\"\"\"\n",
        "  \n",
        "  \n",
        "  numbers=[1,2,3,4,5,6,7,8,9]\n",
        "  is_possible=False\n",
        "  \n",
        "  #Initialize our list of possible solutions\n",
        "  solutions=[]\n",
        "\n",
        "  #Itarate all the possible combinations of the number, removing in each iteration\n",
        "  #the number selected from the list of numbers\n",
        "  for a1 in numbers:\n",
        "    copy_one = numbers[:]\n",
        "    copy_one.remove(a1)\n",
        "\n",
        "    for a2 in copy_one:\n",
        "      copy_two = copy_one[:]\n",
        "      copy_two.remove(a2)\n",
        "\n",
        "      for a3 in copy_two:\n",
        "        copy_three = copy_two[:]\n",
        "        copy_three.remove(a3)\n",
        "\n",
        "        for a4 in copy_three:\n",
        "          copy_four = copy_three[:]\n",
        "          copy_four.remove(a4)\n",
        "\n",
        "          for a5 in copy_four:\n",
        "            \n",
        "            #With these all four combinations of the operator, we represent the\n",
        "            #12 cases we have in fact, due to the fact that we're iterating\n",
        "            #on the numbers and their positions so some combinations are\n",
        "            #equivalents to other ones\n",
        "            \n",
        "            if (a1 + a2 - a3 / a4 * a5) == N:\n",
        "              is_possible=True\n",
        "              solutions.append([str(a1)+'+'+str(a2)+'-'+str(a3)+'/'+str(a4)+'*'+str(a5)+'='+str(N)])\n",
        "            \n",
        "            if (a1 + a2 / a3 - a4 * a5) == N:\n",
        "              is_possible=True\n",
        "              solutions.append([str(a1)+'+'+str(a2)+'/'+str(a3)+'-'+str(a4)+'*'+str(a5)+'='+str(N)])\n",
        "            \n",
        "            if (a1 + a2 * a3 - a4 / a5) == N:\n",
        "              is_possible=True\n",
        "              solutions.append([str(a1)+'+'+str(a2)+'*'+str(a3)+'-'+str(a4)+'/'+str(a5)+'='+str(N)])\n",
        "            \n",
        "            if (a1 / a2 * a3 + a4 - a5) == N:\n",
        "              is_possible=True\n",
        "              solutions.append([str(a1)+'/'+str(a2)+'*'+str(a3)+'+'+str(a4)+'-'+str(a5)+'='+str(N)])\n",
        "            \n",
        "            \n",
        "  if not is_possible:\n",
        "    return (\"El número \" + str(N) + \" no puede ser expresado bajo estas condiciones\")\n",
        "  else:\n",
        "    return solutions\n",
        "\n",
        "\n",
        "@timing \n",
        "def get_num_time(N):\n",
        "  return get_num(N)"
      ],
      "execution_count": 0,
      "outputs": []
    },
    {
      "metadata": {
        "id": "j67OlD_U8Rz-",
        "colab_type": "code",
        "outputId": "fc809e19-3e09-4930-d8d8-ab4ea363e612",
        "colab": {
          "base_uri": "https://localhost:8080/",
          "height": 51
        }
      },
      "cell_type": "code",
      "source": [
        "#Problemos por ejemplo con el caso del 0\n",
        "N = 5\n",
        "sols = get_num_time(N)\n",
        "print(\"Hay \", len(sols), \"soluciones para el número\", N, \"siendo una posible solución \", sols[0] )"
      ],
      "execution_count": 3,
      "outputs": [
        {
          "output_type": "stream",
          "text": [
            "get_num_time ha tardado 13.606 ms\n",
            "Hay  468 soluciones para el número 5 siendo una posible solución  ['1+2*3-8/4=5']\n"
          ],
          "name": "stdout"
        }
      ]
    },
    {
      "metadata": {
        "id": "sjnW8JFn_4uz",
        "colab_type": "text"
      },
      "cell_type": "markdown",
      "source": [
        "¿Qué valores podemos obtener como máximos y mínimos en este problema?"
      ]
    },
    {
      "metadata": {
        "id": "3R3PJyEy9Luk",
        "colab_type": "code",
        "colab": {}
      },
      "cell_type": "code",
      "source": [
        "def get_min_max_num ():\n",
        "  #Function the get the maximun and minimun achievable values in the \n",
        "  #previous function with the conditions required\n",
        "  \n",
        "  numbers=[1,2,3,4,5,6,7,8,9]\n",
        "  \n",
        "  #Initialize the min and max values\n",
        "  min_possible = 999\n",
        "  max_possible = -999\n",
        "\n",
        "  #Same process that the function above\n",
        "  for a1 in numbers:\n",
        "    copy_one = numbers[:]\n",
        "    copy_one.remove(a1)\n",
        "\n",
        "    for a2 in copy_one:\n",
        "      copy_two = copy_one[:]\n",
        "      copy_two.remove(a2)\n",
        "\n",
        "      for a3 in copy_two:\n",
        "        copy_three = copy_two[:]\n",
        "        copy_three.remove(a3)\n",
        "\n",
        "        for a4 in copy_three:\n",
        "          copy_four = copy_three[:]\n",
        "          copy_four.remove(a4)\n",
        "\n",
        "          for a5 in copy_four:\n",
        "            \n",
        "            #Only choose those one solutions that are integers.\n",
        "            comb1 = a1 + a2 - a3 / a4 * a5 if int(a1 + a2 - a3 / a4 * a5)==a1 + a2 - a3 / a4 * a5 else 0              \n",
        "            comb2 = a1 + a2 / a3 - a4 * a5 if int(a1 + a2 / a3 - a4 * a5)==a1 + a2 / a3 - a4 * a5 else 0\n",
        "            comb3 = a1 + a2 * a3 - a4 / a5 if int(a1 + a2 * a3 - a4 / a5)==a1 + a2 * a3 - a4 / a5 else 0\n",
        "            comb4 = a1 / a2 * a3 + a4 - a5 if int(a1 / a2 * a3 + a4 - a5)==a1 / a2 * a3 + a4 - a5 else 0          \n",
        "            \n",
        "            if max(comb1,comb2,comb3,comb4) > max_possible:\n",
        "               max_possible = max(comb1,comb2,comb3,comb4)\n",
        "            \n",
        "            if min(comb1,comb2,comb3,comb4) < min_possible:\n",
        "               min_possible = min(comb1,comb2,comb3,comb4)      \n",
        "            \n",
        "  return (min_possible,max_possible)\n",
        "\n",
        "@timing \n",
        "def get_min_max_num_time():\n",
        "   return get_min_max_num()\n",
        "\n"
      ],
      "execution_count": 0,
      "outputs": []
    },
    {
      "metadata": {
        "id": "4XjypiXI_HZq",
        "colab_type": "code",
        "outputId": "3dafed61-673b-4cd8-9fc9-93acf2ccf935",
        "colab": {
          "base_uri": "https://localhost:8080/",
          "height": 51
        }
      },
      "cell_type": "code",
      "source": [
        "min_value, max_value = get_min_max_num_time()\n",
        "print(\"El menor valor entero alcanzable es \", min_value, \" mientras que el mayor es \", max_value)"
      ],
      "execution_count": 5,
      "outputs": [
        {
          "output_type": "stream",
          "text": [
            "get_min_max_num_time ha tardado 48.641 ms\n",
            "El menor valor entero alcanzable es  -69.0  mientras que el mayor es  77.0\n"
          ],
          "name": "stdout"
        }
      ]
    },
    {
      "metadata": {
        "id": "j1VRIY80_953",
        "colab_type": "text"
      },
      "cell_type": "markdown",
      "source": [
        "Sabiendo los valores máximos y mínimos alcanzables, ¿podemos asegurar que hay solución para todos los números enteros situados entre estos dos?"
      ]
    },
    {
      "metadata": {
        "id": "pSy-DTFq_req",
        "colab_type": "code",
        "colab": {}
      },
      "cell_type": "code",
      "source": [
        " def is_possible_get ():\n",
        "  \n",
        "  numbers=[1,2,3,4,5,6,7,8,9]\n",
        "  number_list = []\n",
        "  min_possible, max_possible = get_min_max_num()\n",
        "  \n",
        "  for number in range(int(min_possible),int(max_possible)+1):\n",
        "    if get_num(number) == \"It's not possible to get number \" + str(number):\n",
        "      number_list.append(number)\n",
        "            \n",
        "  if len(number_list)==0:\n",
        "    return (\"Es posible conseguir todos los números\")\n",
        "  else:\n",
        "    return (\"No se pueden conseguir los números\" + str(number_list))\n",
        "          "
      ],
      "execution_count": 0,
      "outputs": []
    },
    {
      "metadata": {
        "id": "b-gy1zEpAKiS",
        "colab_type": "code",
        "outputId": "15aa94d2-4de0-4b8e-e00b-6160f14a314c",
        "colab": {
          "base_uri": "https://localhost:8080/",
          "height": 34
        }
      },
      "cell_type": "code",
      "source": [
        "is_possible_get()"
      ],
      "execution_count": 7,
      "outputs": [
        {
          "output_type": "execute_result",
          "data": {
            "text/plain": [
              "'Es posible conseguir todos los números'"
            ]
          },
          "metadata": {
            "tags": []
          },
          "execution_count": 7
        }
      ]
    },
    {
      "metadata": {
        "id": "tgrnsC2nkFa8",
        "colab_type": "text"
      },
      "cell_type": "markdown",
      "source": [
        "Calcula la complejidad del algoritmo por fuerza bruta"
      ]
    },
    {
      "metadata": {
        "id": "9eUd3xwckP68",
        "colab_type": "text"
      },
      "cell_type": "markdown",
      "source": [
        "**Respuesta**"
      ]
    },
    {
      "metadata": {
        "id": "qdW4EuCSBBxJ",
        "colab_type": "text"
      },
      "cell_type": "markdown",
      "source": [
        "La complejidad del algoritmo por fuerza bruta es de O($n^5$)"
      ]
    },
    {
      "metadata": {
        "id": "txbrmLmskReM",
        "colab_type": "text"
      },
      "cell_type": "markdown",
      "source": [
        "(*)Diseña un algoritmo que mejore la complejidad del algortimo por fuerza bruta. Argumenta porque crees que mejora el algoritmo por fuerza bruta"
      ]
    },
    {
      "metadata": {
        "id": "hLrVwt5QkZPD",
        "colab_type": "text"
      },
      "cell_type": "markdown",
      "source": [
        "Respuesta"
      ]
    },
    {
      "metadata": {
        "id": "05oPbcXETtlD",
        "colab_type": "text"
      },
      "cell_type": "markdown",
      "source": [
        "Tras mucho pensar y darle vueltas, no he encontrado ningún algoritmo \"Divide y vencerás\" ni Voraz (que era el que parecía en principio mejor candidato) que mejore la complejidad del algoritmo por fuerza bruta, ya que en todos los casos me era necesario recorrer la lista 5 veces para así coger 5 números distintos asegurándome que contemplaba todas las posibles combinaciones. <br>\n",
        "Es por eso que la única forma que he encontrado de mejorar la complejidad del algoritmo por Fuerza Bruta es mediante una metaheurística, como sigue a continuación:"
      ]
    },
    {
      "metadata": {
        "id": "m1eyM21Vkabg",
        "colab_type": "code",
        "colab": {}
      },
      "cell_type": "code",
      "source": [
        "def random_get_num(num,N):\n",
        "  \"\"\"Function that tries to get the descomposition of the number num given by \n",
        "  iterating N times.\n",
        "  num: number given to get its descomposition\n",
        "  N: number of times to iterate and try to find a solution\"\"\"\n",
        "  numbers = [1,2,3,4,5,6,7,8,9]\n",
        "  \n",
        "  import random\n",
        "  solutions=[]\n",
        "  for i in range(N):\n",
        "    \n",
        "    #Pick random a number for the list\n",
        "    numbers_copy1 = numbers[:]\n",
        "    a1 = random.choice(numbers_copy1)\n",
        "    \n",
        "    #When we have select one random number, the next one is choosen from\n",
        "    #the original list without the previous choosen one.\n",
        "    numbers_copy1.remove(a1)\n",
        "    numbers_copy2 = numbers_copy1[:]\n",
        "    a2 = random.choice(numbers_copy2)\n",
        "\n",
        "    #And so one with the rest of numbers\n",
        "    numbers_copy2.remove(a2)\n",
        "    numbers_copy3 = numbers_copy2[:]\n",
        "    a3 = random.choice(numbers_copy3)\n",
        "    \n",
        "    numbers_copy3.remove(a3)\n",
        "    numbers_copy4 = numbers_copy3[:]\n",
        "    a4 = random.choice(numbers_copy4)\n",
        "    \n",
        "    numbers_copy4.remove(a4)\n",
        "    numbers_copy5 = numbers_copy4[:]\n",
        "    a5 = random.choice(numbers_copy5)\n",
        "    \n",
        "    \n",
        "    #Same procedure as before\n",
        "    if (a1 + a2 - a3 / a4 * a5) == num:\n",
        "      return (str(a1) + '+' + str(a2) + '-' + str(a3) + '/' + str(a4) + '*' + str(a5) + '=' + str(num))\n",
        "\n",
        "\n",
        "    if (a1 + a2 / a3 - a4 * a5) == num:\n",
        "      return (str(a1) + '+' + str(a2) + '/' + str(a3) + '-' + str(a4) + '*' + str(a5) + '=' + str(num))\n",
        "\n",
        "    if (a1 + a2 * a3 - a4 / a5) == num:\n",
        "      return (str(a1) + '+' + str(a2) + '*' + str(a3) + '-' + str(a4) + '/' + str(a5) + '=' + str(num))\n",
        "\n",
        "    if (a1 / a2 * a3 + a4 - a5) == num:\n",
        "      return (str(a1) + '/' + str(a2) + '*' + str(a3) + '+' + str(a4) + '-' + str(a5) + '=' + str(num))\n",
        "      \n",
        "  return(\"No ha sido posible encontrar la solución para el número \" + str(num) + \" en \" + str(N) +  \" iteraciones.\")\n",
        "    "
      ],
      "execution_count": 0,
      "outputs": []
    },
    {
      "metadata": {
        "id": "f-1EjWzKRAqz",
        "colab_type": "code",
        "colab": {
          "base_uri": "https://localhost:8080/",
          "height": 34
        },
        "outputId": "97ee874c-8393-4ec2-a473-7a0a498c8354"
      },
      "cell_type": "code",
      "source": [
        "random_get_num(0,25)"
      ],
      "execution_count": 9,
      "outputs": [
        {
          "output_type": "execute_result",
          "data": {
            "text/plain": [
              "'4/2*1+3-5=0'"
            ]
          },
          "metadata": {
            "tags": []
          },
          "execution_count": 9
        }
      ]
    },
    {
      "metadata": {
        "id": "yUuph_B7cox5",
        "colab_type": "code",
        "colab": {
          "base_uri": "https://localhost:8080/",
          "height": 34
        },
        "outputId": "9266fdde-0912-4591-a40b-9b73479ef8f1"
      },
      "cell_type": "code",
      "source": [
        "random_get_num(-2,40)"
      ],
      "execution_count": 10,
      "outputs": [
        {
          "output_type": "execute_result",
          "data": {
            "text/plain": [
              "'No ha sido posible encontrar la solución para el número -2 en 40 iteraciones.'"
            ]
          },
          "metadata": {
            "tags": []
          },
          "execution_count": 10
        }
      ]
    },
    {
      "metadata": {
        "id": "DsLdyd4Tcut0",
        "colab_type": "code",
        "colab": {
          "base_uri": "https://localhost:8080/",
          "height": 34
        },
        "outputId": "1499a85c-5698-4890-eea8-0c1fbb55a3fd"
      },
      "cell_type": "code",
      "source": [
        "random_get_num(13,50)"
      ],
      "execution_count": 11,
      "outputs": [
        {
          "output_type": "execute_result",
          "data": {
            "text/plain": [
              "'6+9-8/4*1=13'"
            ]
          },
          "metadata": {
            "tags": []
          },
          "execution_count": 11
        }
      ]
    },
    {
      "metadata": {
        "id": "1B-4BAWSe4Ss",
        "colab_type": "code",
        "colab": {
          "base_uri": "https://localhost:8080/",
          "height": 34
        },
        "outputId": "548aa16d-5166-4510-8fcd-f1775921c015"
      },
      "cell_type": "code",
      "source": [
        "random_get_num(-17,500)"
      ],
      "execution_count": 12,
      "outputs": [
        {
          "output_type": "execute_result",
          "data": {
            "text/plain": [
              "'4+6/2-8*3=-17'"
            ]
          },
          "metadata": {
            "tags": []
          },
          "execution_count": 12
        }
      ]
    },
    {
      "metadata": {
        "id": "Ayh6XweCsirt",
        "colab_type": "text"
      },
      "cell_type": "markdown",
      "source": [
        "Obviamente, los resultados del algoritmo metaheurístico no son tan buenos como la del algoritmo por Fuerza Bruta, pero sí que reducimos un poco la complejidad del mismo."
      ]
    },
    {
      "metadata": {
        "id": "eGDB4K6uk1iN",
        "colab_type": "text"
      },
      "cell_type": "markdown",
      "source": [
        "(*)Calcula la complejidad del algoritmo "
      ]
    },
    {
      "metadata": {
        "id": "NhpTh_BPk1ms",
        "colab_type": "text"
      },
      "cell_type": "markdown",
      "source": [
        "Respuesta"
      ]
    },
    {
      "metadata": {
        "id": "pKZFZ0uQc2cW",
        "colab_type": "text"
      },
      "cell_type": "markdown",
      "source": [
        "Para calcular la complejidad de este algoritmo metaheurístico partimos de que la complejidad de la función remove de python es O(n) (siendo n la longitud de la lista a recorrer, en este caso, 9). Como se hace cinco veces sería O(5n) -> O(n). <br>\n",
        "Por otra parte el bucle tendría complejidad O(N), siendo N el número de iteraciones específicada en la función, por lo que la complejidad total sería O($N·n$) (siendo N despreciable para valores muy pequeños). <br>\n",
        "Si nos damos cuenta, este algoritmo metaheurístico supone una mejora en complejidad siempre y cuando $N$ sea menor que $n^4$ para que así $O (N·n) < O (n^5)$."
      ]
    },
    {
      "metadata": {
        "id": "3M6QjTsSkmYe",
        "colab_type": "text"
      },
      "cell_type": "markdown",
      "source": [
        "Según el problema (y tenga sentido), diseña un juego de datos de entrada aleatorios"
      ]
    },
    {
      "metadata": {
        "id": "zy5ZROmjlGo1",
        "colab_type": "text"
      },
      "cell_type": "markdown",
      "source": [
        "Aplica el algoritmo al juego de datos generado"
      ]
    },
    {
      "metadata": {
        "id": "_Cmj-PVylMsa",
        "colab_type": "text"
      },
      "cell_type": "markdown",
      "source": [
        "Respuesta"
      ]
    },
    {
      "metadata": {
        "id": "O2Q7e8kXfFU3",
        "colab_type": "text"
      },
      "cell_type": "markdown",
      "source": [
        "Ya se han mostrado ejemplos previamente con datos aleatorios."
      ]
    },
    {
      "metadata": {
        "colab_type": "text",
        "id": "eTFWUJQrtGcv"
      },
      "cell_type": "markdown",
      "source": [
        "Enumera las referencias que has utilizado(si ha sido necesario) para llevar a cabo el trabajo"
      ]
    },
    {
      "metadata": {
        "id": "YKQ_mRBttWsP",
        "colab_type": "text"
      },
      "cell_type": "markdown",
      "source": [
        "Respuesta"
      ]
    },
    {
      "metadata": {
        "id": "kAkDPUyRtYyH",
        "colab_type": "text"
      },
      "cell_type": "markdown",
      "source": [
        "Describe brevemente las lineas de como crees que es posible avanzar en el estudio del problema. Ten en cuenta incluso posibles variaciones del problema y/o variaciones al alza del tamaño"
      ]
    },
    {
      "metadata": {
        "id": "IE0uZmo-tZu-",
        "colab_type": "text"
      },
      "cell_type": "markdown",
      "source": [
        "Respuesta"
      ]
    },
    {
      "metadata": {
        "id": "5ZB0tqcYW_Ta",
        "colab_type": "text"
      },
      "cell_type": "markdown",
      "source": [
        "Seguir investigando a ver si es posible conseguir un algoritmo voraz o un árbol de decisión que permita resolver este problema con menor complejidad que el algoritmo por Fuerza Bruta, ya que, aunque le haya dado bastantes vueltas, me resulta raro que no existan algoritmos que cumplan estas condiciones aparte de metaheurísticos."
      ]
    }
  ]
}