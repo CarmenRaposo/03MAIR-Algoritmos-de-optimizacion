{
  "nbformat": 4,
  "nbformat_minor": 0,
  "metadata": {
    "colab": {
      "name": "AG2-Carmen_Raposo.ipynb",
      "version": "0.3.2",
      "provenance": [],
      "collapsed_sections": [],
      "include_colab_link": true
    },
    "kernelspec": {
      "name": "python3",
      "display_name": "Python 3"
    }
  },
  "cells": [
    {
      "cell_type": "markdown",
      "metadata": {
        "id": "view-in-github",
        "colab_type": "text"
      },
      "source": [
        "<a href=\"https://colab.research.google.com/github/CarmenRaposo/03MAIR-Algoritmos-de-optimizacion/blob/master/AG2/AG2_Carmen_Raposo.ipynb\" target=\"_parent\"><img src=\"https://colab.research.google.com/assets/colab-badge.svg\" alt=\"Open In Colab\"/></a>"
      ]
    },
    {
      "metadata": {
        "id": "5d4cZMiCpo4Y",
        "colab_type": "text"
      },
      "cell_type": "markdown",
      "source": [
        "AG - Actividad Guidada 2 <br/> Carmen Raposo <br/> Url: https://github.com/CarmenRaposo/03MAIR-Algoritmos-de-optimizacion/tree/master/AG2"
      ]
    },
    {
      "metadata": {
        "id": "H4M2pGKfpyaX",
        "colab_type": "text"
      },
      "cell_type": "markdown",
      "source": [
        "**Problema de los puntos más cercanos:**\n",
        "<br/>Dado un conjunto de puntos se trata de encontrar los dos puntos más cercanos\n",
        "\n",
        "\n"
      ]
    },
    {
      "metadata": {
        "id": "U99C9f4G3fvC",
        "colab_type": "text"
      },
      "cell_type": "markdown",
      "source": [
        "**Puntos 1D**"
      ]
    },
    {
      "metadata": {
        "id": "Uub5aLhhp-rZ",
        "colab_type": "code",
        "colab": {}
      },
      "cell_type": "code",
      "source": [
        "#Primero generaremos un conjunto 1D de puntos\n",
        "import random\n",
        "D1_points = [random.randrange(1,10000) for x in range(1000)]"
      ],
      "execution_count": 0,
      "outputs": []
    },
    {
      "metadata": {
        "id": "wDuJ65R-qBHD",
        "colab_type": "text"
      },
      "cell_type": "markdown",
      "source": [
        "Primer intento: **Fuerza bruta**"
      ]
    },
    {
      "metadata": {
        "id": "XRylYuF1qE-j",
        "colab_type": "code",
        "outputId": "13a751a4-7622-40d4-9e1d-b668b8f2c200",
        "colab": {
          "base_uri": "https://localhost:8080/",
          "height": 34
        }
      },
      "cell_type": "code",
      "source": [
        "def BruteForce_1D (points):\n",
        "  #points: list of 1D points\n",
        "  if len(points)>1:\n",
        "    \n",
        "    #Inititialize the variable\n",
        "    min_dist=10000\n",
        "    \n",
        "    for i in range(len(points[:-1])):\n",
        "      for j in range(i+1,len(points)):\n",
        "        dist=abs(points[i]-points[j])\n",
        "        if dist<min_dist:\n",
        "          min_dist=dist\n",
        "          i_min=points[i]\n",
        "          j_min=points[j]\n",
        "          \n",
        "    return print('La minima distancia es de', min_dist, 'siendo la pareja de puntos', (i_min,j_min))\n",
        "  \n",
        "  else:\n",
        "    return(\"No hay suficientes puntos como para comparar distancias entre ellos\")\n",
        "\n",
        "BruteForce_1D(D1_points)    "
      ],
      "execution_count": 2,
      "outputs": [
        {
          "output_type": "stream",
          "text": [
            "La minima distancia es de 0 siendo la pareja de puntos (4864, 4864)\n"
          ],
          "name": "stdout"
        }
      ]
    },
    {
      "metadata": {
        "id": "K7YqlKVaqIpW",
        "colab_type": "text"
      },
      "cell_type": "markdown",
      "source": [
        "**Complejidad** del algoritmo de **fuerza bruta**: $n^2$ (ya que se recorre la lista n veces)<br/> \n",
        "¿Puede mejorarse? Sí, se puede hacer lineal si primero ordenamos la lista y solo comparamos cada elemento con el siguiente, de esta forma la complejidad pasaría a ser de $n(log(n)+1)$, ya que recorrerías la función. <br/>"
      ]
    },
    {
      "metadata": {
        "id": "IJDmaPBdqlOr",
        "colab_type": "text"
      },
      "cell_type": "markdown",
      "source": [
        "Segundo intento: **Divide y vencerás** "
      ]
    },
    {
      "metadata": {
        "id": "kBTGCUaPqmCk",
        "colab_type": "code",
        "outputId": "2d8425bf-6215-47f7-fcbd-00602bb2eb23",
        "colab": {
          "base_uri": "https://localhost:8080/",
          "height": 34
        }
      },
      "cell_type": "code",
      "source": [
        "def DivideConquer_1D (points):\n",
        "  #points: list of 1D points\n",
        "  import math\n",
        "  \n",
        "  \n",
        "  if len(points)==2:\n",
        "    return(abs(points[0]-points[1]),[points[0],points[1]])\n",
        "  elif len(points)<2:\n",
        "    return(math.inf,[])\n",
        "  elif len(points)>2:\n",
        "    #Order the points ascendentally.\n",
        "    points.sort()\n",
        "\n",
        "    #Divide the set into two equal parts\n",
        "\n",
        "    LeftOne = points[:int(len(points)/2)]\n",
        "    RightOne = points[int(len(points)/2):]\n",
        "    \n",
        "    Dist = abs(LeftOne[-1]-RightOne[0])\n",
        "    DistPoints = [LeftOne[-1],RightOne[0]]\n",
        "    (Ldist,Lpoints) = DivideConquer_1D(LeftOne)\n",
        "    (Rdist,Rpoints) = DivideConquer_1D(RightOne)\n",
        "    \n",
        "    minDist = min(Dist, min(Ldist,Rdist))\n",
        "    if minDist==Dist:\n",
        "      minPoints = DistPoints\n",
        "    elif minDist==Ldist:\n",
        "      minPoints = Lpoints\n",
        "    elif minDist==Rdist:\n",
        "      minPoints = Rpoints\n",
        "\n",
        "    return (minDist,minPoints)\n",
        "\n",
        "DivideConquer_1D(D1_points)\n",
        "\n",
        "\n",
        "  "
      ],
      "execution_count": 3,
      "outputs": [
        {
          "output_type": "execute_result",
          "data": {
            "text/plain": [
              "(0, [6, 6])"
            ]
          },
          "metadata": {
            "tags": []
          },
          "execution_count": 3
        }
      ]
    },
    {
      "metadata": {
        "id": "uMwJg_KrGf4t",
        "colab_type": "text"
      },
      "cell_type": "markdown",
      "source": [
        "**Complejidad** del algoritmo de **Divide y Vencerás**: $n(log(n))$ <br/> \n"
      ]
    },
    {
      "metadata": {
        "id": "nDBpTuig3hzL",
        "colab_type": "text"
      },
      "cell_type": "markdown",
      "source": [
        "**Extendemos el algoritmo para cualquier dimensión**"
      ]
    },
    {
      "metadata": {
        "id": "ArAiPmVtq6hx",
        "colab_type": "code",
        "colab": {}
      },
      "cell_type": "code",
      "source": [
        "#Primero generaremos un conjunto 2D y 3D de puntos\n",
        "\n",
        "import random\n",
        "D2_points = [(random.randrange(1,10000),random.randrange(1,10000)) for x in range(1000)]\n",
        "D3_points = [(random.randrange(1,10000),random.randrange(1,10000),random.randrange(1,10000)) for x in range(1000)]"
      ],
      "execution_count": 0,
      "outputs": []
    },
    {
      "metadata": {
        "id": "EY8iw4953qez",
        "colab_type": "text"
      },
      "cell_type": "markdown",
      "source": [
        "Primer algoritmo: **Fuerza bruta**"
      ]
    },
    {
      "metadata": {
        "id": "RhAmYkJP3px1",
        "colab_type": "code",
        "colab": {}
      },
      "cell_type": "code",
      "source": [
        "def BruteForce (points):\n",
        "  #points: list of n-Dim points, where n is a natural number\n",
        "  \n",
        "  import math\n",
        "  \n",
        "  if len(points)>1:\n",
        "\n",
        "    min_dist=math.inf\n",
        "    for i in range(len(points[:-1])):\n",
        "      for j in range(i+1,len(points)):\n",
        "        dist=math.sqrt(sum([(points[i][k]-points[j][k])**2 for k in range(len(points[i]))]))\n",
        "        if dist<min_dist:\n",
        "          min_dist=dist\n",
        "          i_min=points[i]\n",
        "          j_min=points[j]\n",
        "    return min_dist, (i_min,j_min)\n",
        "  \n",
        "  else:\n",
        "    return(\"No hay suficientes puntos como para comparar distancias entre ellos\")  "
      ],
      "execution_count": 0,
      "outputs": []
    },
    {
      "metadata": {
        "id": "u711IBoFF6vm",
        "colab_type": "text"
      },
      "cell_type": "markdown",
      "source": [
        ""
      ]
    },
    {
      "metadata": {
        "id": "lcxeAW66Li50",
        "colab_type": "code",
        "outputId": "0aec0c5c-c344-467f-85b6-231c4959f20d",
        "colab": {
          "base_uri": "https://localhost:8080/",
          "height": 34
        }
      },
      "cell_type": "code",
      "source": [
        "BruteForce(D2_points)"
      ],
      "execution_count": 6,
      "outputs": [
        {
          "output_type": "execute_result",
          "data": {
            "text/plain": [
              "(4.47213595499958, ((7857, 5005), (7855, 5009)))"
            ]
          },
          "metadata": {
            "tags": []
          },
          "execution_count": 6
        }
      ]
    },
    {
      "metadata": {
        "id": "T6EnoJ5kLmMl",
        "colab_type": "code",
        "outputId": "423a4939-456f-4fe4-9107-4df3d297a404",
        "colab": {
          "base_uri": "https://localhost:8080/",
          "height": 34
        }
      },
      "cell_type": "code",
      "source": [
        "BruteForce(D3_points)"
      ],
      "execution_count": 7,
      "outputs": [
        {
          "output_type": "execute_result",
          "data": {
            "text/plain": [
              "(104.7807234180028, ((6730, 1558, 2334), (6711, 1555, 2231)))"
            ]
          },
          "metadata": {
            "tags": []
          },
          "execution_count": 7
        }
      ]
    },
    {
      "metadata": {
        "id": "J2kH9VCbMPk3",
        "colab_type": "text"
      },
      "cell_type": "markdown",
      "source": [
        "Segundo algoritmo: **Divide y vencerás**"
      ]
    },
    {
      "metadata": {
        "id": "7pm6XDyR3oZd",
        "colab_type": "text"
      },
      "cell_type": "markdown",
      "source": [
        "Ahora para puntos de dimensión mayor que 1, la diferencia será que ordenaremos por la coordenada *x* "
      ]
    },
    {
      "metadata": {
        "id": "qawng4hhnX3Q",
        "colab_type": "code",
        "colab": {}
      },
      "cell_type": "code",
      "source": [
        "def DivideConquer(points):\n",
        "  #points: list of n-Dim points, where n is a natural number\n",
        "  import math\n",
        "  \n",
        "  \n",
        "  if len(points)==2:\n",
        "    if(len(points[0])>1):\n",
        "      return(math.sqrt(sum([(points[0][k]-points[1][k])**2 for k in range(len(points[0]))])),\n",
        "            (points[0],points[1]))\n",
        "    else:\n",
        "      return(abs(points[0]-points[1]),(points[0],points[1]))\n",
        "  elif len(points)<2:\n",
        "    return(math.inf,[])\n",
        "  elif len(points)>2:\n",
        "    #Order the points ascendentally (by the x coordinate)\n",
        "    if (len(points[0])>1):\n",
        "      points = sorted(points,key=lambda x: x[0])\n",
        "    else:\n",
        "      points.sort()\n",
        "\n",
        "    #Divide the set into two equal parts\n",
        "\n",
        "    LeftOne = points[:int(len(points)/2)]\n",
        "    RightOne = points[int(len(points)/2):]\n",
        "    \n",
        "    #Calculate the minimum distance between the two closest point clouds in each set\n",
        "    #by selecting the proportional part (in this case, 10%) of points nearest to \n",
        "    #the separation between the two sets\n",
        "    Dist,DistPoints = BruteForce(LeftOne[:-int(0.1*len(LeftOne))] + RightOne[int(0.1*len(RightOne)):])\n",
        "    \n",
        "    Ldist,Lpoints = DivideConquer(LeftOne)\n",
        "    Rdist,Rpoints = DivideConquer(RightOne)\n",
        "    \n",
        "    minDist = min(Dist, min(Ldist,Rdist))\n",
        "    if minDist==Dist:\n",
        "      minPoints = DistPoints\n",
        "    elif minDist==Ldist:\n",
        "      minPoints = Lpoints\n",
        "    elif minDist==Rdist:\n",
        "      minPoints = Rpoints\n",
        "\n",
        "    return (minDist,minPoints)\n",
        "  \n"
      ],
      "execution_count": 0,
      "outputs": []
    },
    {
      "metadata": {
        "id": "Tcg4E0tUMESZ",
        "colab_type": "code",
        "outputId": "262a211d-5c3f-4604-f0b5-95a6dfcadee4",
        "colab": {
          "base_uri": "https://localhost:8080/",
          "height": 34
        }
      },
      "cell_type": "code",
      "source": [
        "DivideConquer(D2_points)"
      ],
      "execution_count": 9,
      "outputs": [
        {
          "output_type": "execute_result",
          "data": {
            "text/plain": [
              "(4.47213595499958, ((7855, 5009), (7857, 5005)))"
            ]
          },
          "metadata": {
            "tags": []
          },
          "execution_count": 9
        }
      ]
    },
    {
      "metadata": {
        "id": "aCbXPfATMFCf",
        "colab_type": "code",
        "outputId": "d61b7032-cfac-4bb6-e58e-cd03cd5fc24f",
        "colab": {
          "base_uri": "https://localhost:8080/",
          "height": 34
        }
      },
      "cell_type": "code",
      "source": [
        "DivideConquer(D3_points)"
      ],
      "execution_count": 10,
      "outputs": [
        {
          "output_type": "execute_result",
          "data": {
            "text/plain": [
              "(104.7807234180028, ((6711, 1555, 2231), (6730, 1558, 2334)))"
            ]
          },
          "metadata": {
            "tags": []
          },
          "execution_count": 10
        }
      ]
    },
    {
      "metadata": {
        "id": "bAb3bve0NaFH",
        "colab_type": "text"
      },
      "cell_type": "markdown",
      "source": [
        "**Problema del viaje por el río **<br/>\n",
        "Encontrar la ruta óptima para ir desde un punto inicial a un punto final en un grafo dirigido ordenado"
      ]
    },
    {
      "metadata": {
        "id": "F7nJVLuiNq7z",
        "colab_type": "code",
        "colab": {}
      },
      "cell_type": "code",
      "source": [
        "Cost_matrix=[[0,5,4,3,999,999,999],\n",
        "[999,0,999,2,3,999,11],\n",
        "[999,999,0,1,999,4,10],\n",
        "[999,999,999,0,5,6,9],\n",
        "[999,999,999,999,0,999,4],\n",
        "[999,999,999,999,999,0,3],\n",
        "[999,999,999,999,999,999,0]]\n",
        "\n",
        "def RiverTravel(Costs):\n",
        "  #Costs: Matrix of costs of the graph\n",
        "  \n",
        "  #Calculate the dimension of the graph\n",
        "  Dim = len(Costs[0])\n",
        "  \n",
        "  #Initialize the price and routes matrices\n",
        "  Total_prices = [[9999]*Dim for i in [9999]*Dim]\n",
        "  Routes = [['X']*Dim for i in ['X']*Dim] \n",
        "  \n",
        "  \n",
        "  for i in range(Dim-1):\n",
        "    for j in range (i+1,Dim):\n",
        "      min_cost = Costs[i][j]\n",
        "      Routes[i][j]=i\n",
        "      \n",
        "      for k in range(i,j):\n",
        "        #If there is any cheaper route, we take it\n",
        "        if (Total_prices[i][k]+Costs[k][j] < min_cost) :\n",
        "          min_cost =min(min_cost,Total_prices[i][k]+Costs[k][j])\n",
        "          Routes[i][j] = k      \n",
        "        \n",
        "        Total_prices[i][j] = min_cost\n",
        "    \n",
        "  return Total_prices, Routes\n",
        "\n",
        "def Route(route, start, end):\n",
        "  #route: matrix obtain from the previous function\n",
        "  #start: initial travel node\n",
        "  #end: final travel node\n",
        "  \n",
        "    if start == end:\n",
        "      \n",
        "      return start\n",
        "    else:\n",
        "      return str(Route(route,start,route[start][end])) + ',' + str(route[start][end])"
      ],
      "execution_count": 0,
      "outputs": []
    },
    {
      "metadata": {
        "id": "PMCQzv84RW6M",
        "colab_type": "code",
        "outputId": "4376e128-02b7-48a6-b83e-2570d63aa7ca",
        "colab": {
          "base_uri": "https://localhost:8080/",
          "height": 34
        }
      },
      "cell_type": "code",
      "source": [
        "RiverTravel(Cost_matrix)[1]\n",
        "'La ruta es ' + Route(RiverTravel(Cost_matrix)[1],0,6)"
      ],
      "execution_count": 16,
      "outputs": [
        {
          "output_type": "execute_result",
          "data": {
            "text/plain": [
              "'La ruta es 0,0,2,5'"
            ]
          },
          "metadata": {
            "tags": []
          },
          "execution_count": 16
        }
      ]
    },
    {
      "metadata": {
        "id": "qvRObQcdlafY",
        "colab_type": "code",
        "colab": {}
      },
      "cell_type": "code",
      "source": [
        ""
      ],
      "execution_count": 0,
      "outputs": []
    }
  ]
}