{
  "nbformat": 4,
  "nbformat_minor": 0,
  "metadata": {
    "colab": {
      "name": "AG2-Carmen_Raposo.ipynb",
      "version": "0.3.2",
      "provenance": [],
      "include_colab_link": true
    },
    "kernelspec": {
      "name": "python3",
      "display_name": "Python 3"
    }
  },
  "cells": [
    {
      "cell_type": "markdown",
      "metadata": {
        "id": "view-in-github",
        "colab_type": "text"
      },
      "source": [
        "<a href=\"https://colab.research.google.com/github/CarmenRaposo/03MAIR-Algoritmos-de-optimizacion/blob/master/AG2/AG2_Carmen_Raposo.ipynb\" target=\"_parent\"><img src=\"https://colab.research.google.com/assets/colab-badge.svg\" alt=\"Open In Colab\"/></a>"
      ]
    },
    {
      "metadata": {
        "id": "5d4cZMiCpo4Y",
        "colab_type": "text"
      },
      "cell_type": "markdown",
      "source": [
        "AG - Actividad Guidada 2 <br/> Carmen Raposo <br/> Url: https://github.com/CarmenRaposo/03MAIR-Algoritmos-de-optimizacion/tree/master/AG2"
      ]
    },
    {
      "metadata": {
        "id": "H4M2pGKfpyaX",
        "colab_type": "text"
      },
      "cell_type": "markdown",
      "source": [
        "**Problema de los puntos más cercanos:**\n",
        "<br/>Dado un conjunto de puntos se trata de encontrar los dos puntos más cercanos\n",
        "\n",
        "\n"
      ]
    },
    {
      "metadata": {
        "id": "U99C9f4G3fvC",
        "colab_type": "text"
      },
      "cell_type": "markdown",
      "source": [
        "**Puntos 1D**"
      ]
    },
    {
      "metadata": {
        "id": "Uub5aLhhp-rZ",
        "colab_type": "code",
        "colab": {}
      },
      "cell_type": "code",
      "source": [
        "#Primero generaremos un conjunto 1D de puntos\n",
        "import random\n",
        "D1_points = [random.randrange(1,10000) for x in range(1000)]"
      ],
      "execution_count": 0,
      "outputs": []
    },
    {
      "metadata": {
        "id": "wDuJ65R-qBHD",
        "colab_type": "text"
      },
      "cell_type": "markdown",
      "source": [
        "Primer intento: **Fuerza bruta**"
      ]
    },
    {
      "metadata": {
        "id": "XRylYuF1qE-j",
        "colab_type": "code",
        "colab": {
          "base_uri": "https://localhost:8080/",
          "height": 34
        },
        "outputId": "0386b70c-501c-4241-8376-ce71d9910e8b"
      },
      "cell_type": "code",
      "source": [
        "def BruteForce_1D (points):\n",
        "  #points: list of 1D points\n",
        "  if len(points)>1:\n",
        "    \n",
        "    #Inititialize the variable\n",
        "    min_dist=10000\n",
        "    \n",
        "    for i in range(len(points[:-1])):\n",
        "      for j in range(i+1,len(points)):\n",
        "        dist=abs(points[i]-points[j])\n",
        "        if dist<min_dist:\n",
        "          min_dist=dist\n",
        "          i_min=points[i]\n",
        "          j_min=points[j]\n",
        "    return print('La minima distancia es de', min_dist, 'siendo la pareja de puntos', (i_min,j_min))\n",
        "  \n",
        "  else:\n",
        "    return(\"No hay suficientes puntos como para comparar distancias entre ellos\")\n",
        "\n",
        "BruteForce_1D(D1_points)    "
      ],
      "execution_count": 93,
      "outputs": [
        {
          "output_type": "stream",
          "text": [
            "La minima distancia es de 0 siendo la pareja de puntos (102, 102)\n"
          ],
          "name": "stdout"
        }
      ]
    },
    {
      "metadata": {
        "id": "K7YqlKVaqIpW",
        "colab_type": "text"
      },
      "cell_type": "markdown",
      "source": [
        "**Complejidad** del algoritmo de **fuerza bruta**: $n^2$ (ya que se recorre la lista n veces)<br/> \n",
        "¿Puede mejorarse? Sí, se puede hacer lineal si primero ordenamos la lista y solo comparamos cada elemento con el siguiente, de esta forma la complejidad pasaría a ser de $n(log(n)+1)$, ya que recorrerías la función. <br/>"
      ]
    },
    {
      "metadata": {
        "id": "IJDmaPBdqlOr",
        "colab_type": "text"
      },
      "cell_type": "markdown",
      "source": [
        "Segundo intento: **Divide y vencerás** "
      ]
    },
    {
      "metadata": {
        "id": "kBTGCUaPqmCk",
        "colab_type": "code",
        "colab": {
          "base_uri": "https://localhost:8080/",
          "height": 34
        },
        "outputId": "cfb61856-6616-4209-e895-f95ad5def141"
      },
      "cell_type": "code",
      "source": [
        "def DivideConquer_1D (points):\n",
        "  #points: list of 1D points\n",
        "  import math\n",
        "  \n",
        "  \n",
        "  if len(points)==2:\n",
        "    return(abs(points[0]-points[1]),[points[0],points[1]])\n",
        "  elif len(points)<2:\n",
        "    return(math.inf,[])\n",
        "  elif len(points)>2:\n",
        "    #Order the points ascendentally.\n",
        "    points.sort()\n",
        "    #print(points)\n",
        "\n",
        "    #Divide the set into two equal parts\n",
        "\n",
        "    LeftOne = points[:int(len(points)/2)]\n",
        "    RightOne = points[int(len(points)/2):]\n",
        "    \n",
        "    Dist = abs(LeftOne[-1]-RightOne[0])\n",
        "    DistPoints = [LeftOne[-1],RightOne[0]]\n",
        "    (Ldist,Lpoints) = DivideConquer_1D(LeftOne)\n",
        "    (Rdist,Rpoints) = DivideConquer_1D(RightOne)\n",
        "    \n",
        "    minDist = min(Dist, min(Ldist,Rdist))\n",
        "    if minDist==Dist:\n",
        "      minPoints = DistPoints\n",
        "    elif minDist==Ldist:\n",
        "      minPoints = Lpoints\n",
        "    elif minDist==Rdist:\n",
        "      minPoints = Rpoints\n",
        "\n",
        "    return (minDist,minPoints)\n",
        "\n",
        "DivideConquer_1D(D1_points)\n",
        "\n",
        "\n",
        "  "
      ],
      "execution_count": 94,
      "outputs": [
        {
          "output_type": "execute_result",
          "data": {
            "text/plain": [
              "(0, [102, 102])"
            ]
          },
          "metadata": {
            "tags": []
          },
          "execution_count": 94
        }
      ]
    },
    {
      "metadata": {
        "id": "uMwJg_KrGf4t",
        "colab_type": "text"
      },
      "cell_type": "markdown",
      "source": [
        "**Complejidad** del algoritmo de **Divide y Vencerás**: $n(log(n))$ <br/> \n"
      ]
    },
    {
      "metadata": {
        "id": "nDBpTuig3hzL",
        "colab_type": "text"
      },
      "cell_type": "markdown",
      "source": [
        "**Extendemos el algoritmo para cualquier dimensión**"
      ]
    },
    {
      "metadata": {
        "id": "ArAiPmVtq6hx",
        "colab_type": "code",
        "colab": {}
      },
      "cell_type": "code",
      "source": [
        "#Primero generaremos un conjunto 2D y 3D de puntos\n",
        "\n",
        "import random\n",
        "D2_points = [(random.randrange(1,10000),random.randrange(1,10000)) for x in range(1000)]\n",
        "D3_points = [(random.randrange(1,10000),random.randrange(1,10000),random.randrange(1,10000)) for x in range(1000)]"
      ],
      "execution_count": 0,
      "outputs": []
    },
    {
      "metadata": {
        "id": "EY8iw4953qez",
        "colab_type": "text"
      },
      "cell_type": "markdown",
      "source": [
        "Primer algoritmo: **Fuerza bruta**"
      ]
    },
    {
      "metadata": {
        "id": "RhAmYkJP3px1",
        "colab_type": "code",
        "colab": {}
      },
      "cell_type": "code",
      "source": [
        "def BruteForce (points):\n",
        "  #points: list of n-Dim points, where n is a natural number\n",
        "  \n",
        "  import math\n",
        "  \n",
        "  if len(points)>1:\n",
        "\n",
        "    min_dist=math.inf\n",
        "    for i in range(len(points[:-1])):\n",
        "      for j in range(i+1,len(points)):\n",
        "        dist=math.sqrt(sum([(points[i][k]-points[j][k])**2 for k in range(len(points[i]))]))\n",
        "        if dist<min_dist:\n",
        "          min_dist=dist\n",
        "          i_min=points[i]\n",
        "          j_min=points[j]\n",
        "    return min_dist, (i_min,j_min)\n",
        "  \n",
        "  else:\n",
        "    return(\"No hay suficientes puntos como para comparar distancias entre ellos\")  "
      ],
      "execution_count": 0,
      "outputs": []
    },
    {
      "metadata": {
        "id": "u711IBoFF6vm",
        "colab_type": "text"
      },
      "cell_type": "markdown",
      "source": [
        ""
      ]
    },
    {
      "metadata": {
        "id": "lcxeAW66Li50",
        "colab_type": "code",
        "colab": {
          "base_uri": "https://localhost:8080/",
          "height": 34
        },
        "outputId": "03e55605-96a2-4f16-fd5a-40fd936aca02"
      },
      "cell_type": "code",
      "source": [
        "BruteForce(D2_points)"
      ],
      "execution_count": 96,
      "outputs": [
        {
          "output_type": "execute_result",
          "data": {
            "text/plain": [
              "(7.0, ((9371, 2143), (9364, 2143)))"
            ]
          },
          "metadata": {
            "tags": []
          },
          "execution_count": 96
        }
      ]
    },
    {
      "metadata": {
        "id": "T6EnoJ5kLmMl",
        "colab_type": "code",
        "colab": {
          "base_uri": "https://localhost:8080/",
          "height": 34
        },
        "outputId": "b396548c-a24f-40cf-a2c0-3181eaeca863"
      },
      "cell_type": "code",
      "source": [
        "BruteForce(D3_points)"
      ],
      "execution_count": 97,
      "outputs": [
        {
          "output_type": "execute_result",
          "data": {
            "text/plain": [
              "(55.362442142665635, ((7905, 7491, 8624), (7886, 7471, 8672)))"
            ]
          },
          "metadata": {
            "tags": []
          },
          "execution_count": 97
        }
      ]
    },
    {
      "metadata": {
        "id": "J2kH9VCbMPk3",
        "colab_type": "text"
      },
      "cell_type": "markdown",
      "source": [
        "Segundo algoritmo: **Divide y vencerás**"
      ]
    },
    {
      "metadata": {
        "id": "7pm6XDyR3oZd",
        "colab_type": "text"
      },
      "cell_type": "markdown",
      "source": [
        "Ahora para puntos de dimensión mayor que 1, la diferencia será que ordenaremos por la coordenada *x* "
      ]
    },
    {
      "metadata": {
        "id": "qawng4hhnX3Q",
        "colab_type": "code",
        "colab": {}
      },
      "cell_type": "code",
      "source": [
        "def DivideConquer(points):\n",
        "  #points: list of n-Dim points, where n is a natural number\n",
        "  import math\n",
        "  \n",
        "  \n",
        "  if len(points)==2:\n",
        "    if(len(points[0])>1):\n",
        "      return(math.sqrt(sum([(points[0][k]-points[1][k])**2 for k in range(len(points[0]))])),\n",
        "            (points[0],points[1]))\n",
        "    else:\n",
        "      return(abs(points[0]-points[1]),(points[0],points[1]))\n",
        "  elif len(points)<2:\n",
        "    return(math.inf,[])\n",
        "  elif len(points)>2:\n",
        "    #Order the points ascendentally (by the x coordinate)\n",
        "    if (len(points[0])>1):\n",
        "      points = sorted(points,key=lambda x: x[0])\n",
        "    else:\n",
        "      points.sort()\n",
        "\n",
        "    #Divide the set into two equal parts\n",
        "\n",
        "    LeftOne = points[:int(len(points)/2)]\n",
        "    RightOne = points[int(len(points)/2):]\n",
        "    \n",
        "    #Calculate the minimum distance between the two closest point clouds in each set\n",
        "    #by selecting the proportional part (in this case, 10%) of points nearest to \n",
        "    #the separation between the two sets\n",
        "    Dist,DistPoints = BruteForce(LeftOne[:-int(0.1*len(LeftOne))] + RightOne[int(0.1*len(RightOne)):])\n",
        "    \n",
        "    Ldist,Lpoints = DivideConquer(LeftOne)\n",
        "    Rdist,Rpoints = DivideConquer(RightOne)\n",
        "    \n",
        "    minDist = min(Dist, min(Ldist,Rdist))\n",
        "    if minDist==Dist:\n",
        "      minPoints = DistPoints\n",
        "    elif minDist==Ldist:\n",
        "      minPoints = Lpoints\n",
        "    elif minDist==Rdist:\n",
        "      minPoints = Rpoints\n",
        "\n",
        "    return (minDist,minPoints)\n",
        "  \n"
      ],
      "execution_count": 0,
      "outputs": []
    },
    {
      "metadata": {
        "id": "Tcg4E0tUMESZ",
        "colab_type": "code",
        "colab": {
          "base_uri": "https://localhost:8080/",
          "height": 34
        },
        "outputId": "ee86bcc3-79a8-412f-aff9-a4bd426c8413"
      },
      "cell_type": "code",
      "source": [
        "DivideConquer(D2_points)"
      ],
      "execution_count": 100,
      "outputs": [
        {
          "output_type": "execute_result",
          "data": {
            "text/plain": [
              "(7.0, ((9364, 2143), (9371, 2143)))"
            ]
          },
          "metadata": {
            "tags": []
          },
          "execution_count": 100
        }
      ]
    },
    {
      "metadata": {
        "id": "aCbXPfATMFCf",
        "colab_type": "code",
        "colab": {
          "base_uri": "https://localhost:8080/",
          "height": 34
        },
        "outputId": "ec8a1cdc-0afc-4854-bb09-091faf6d04f7"
      },
      "cell_type": "code",
      "source": [
        "DivideConquer(D3_points)"
      ],
      "execution_count": 101,
      "outputs": [
        {
          "output_type": "execute_result",
          "data": {
            "text/plain": [
              "(55.362442142665635, ((7886, 7471, 8672), (7905, 7491, 8624)))"
            ]
          },
          "metadata": {
            "tags": []
          },
          "execution_count": 101
        }
      ]
    },
    {
      "metadata": {
        "id": "bAb3bve0NaFH",
        "colab_type": "text"
      },
      "cell_type": "markdown",
      "source": [
        "**Problema del viaje por el río **<br/>\n",
        "Encontrar la ruta óptima para ir desde un punto inicial a un punto final en un grafo dirigido ordenado"
      ]
    },
    {
      "metadata": {
        "id": "F7nJVLuiNq7z",
        "colab_type": "code",
        "colab": {}
      },
      "cell_type": "code",
      "source": [
        "Cost_matrix=[[0,5,4,3,999,999,999],\n",
        "[999,0,999,2,3,999,11],\n",
        "[999,999,0,1,999,4,10],\n",
        "[999,999,999,0,5,6,9],\n",
        "[999,999,999,999,0,999,4],\n",
        "[999,999,999,999,999,0,3],\n",
        "[999,999,999,999,999,999,0]]\n",
        "\n",
        "def RiverTravel(Costs):\n",
        "  #Costs: Matrix of costs of the graph\n",
        "  \n",
        "  #Calculate the dimension of the graph\n",
        "  Dim = len(Costs[0])\n",
        "  \n",
        "  Total_prices = [[9999]*Dim for i in [9999]*Dim]\n",
        "  Routes = [['X']*Dim for i in [9999]*Dim] \n",
        "  \n",
        "  for i in range(Dim-1):\n",
        "    for j in range (i+1,Dim):\n",
        "      min_cost = Costs[i][j]\n",
        "      Routes[i][j]=i\n",
        "      \n",
        "      for k in range(i,j):\n",
        "        min_cost = min(min_cost,Total_prices[i][k]+Costs[k][j])\n",
        "        Routes[i][j] = k \n",
        "          \n",
        "      Total_prices[i][j] = min_cost\n",
        "    \n",
        "    return Total_prices, Routes"
      ],
      "execution_count": 0,
      "outputs": []
    },
    {
      "metadata": {
        "id": "PMCQzv84RW6M",
        "colab_type": "code",
        "colab": {
          "base_uri": "https://localhost:8080/",
          "height": 255
        },
        "outputId": "4c217b0e-b1b0-4753-f5ae-1df6739f62c2"
      },
      "cell_type": "code",
      "source": [
        "RiverTravel(Cost_matrix)"
      ],
      "execution_count": 147,
      "outputs": [
        {
          "output_type": "execute_result",
          "data": {
            "text/plain": [
              "([[9999, 5, 4, 3, 8, 8, 11],\n",
              "  [9999, 9999, 9999, 9999, 9999, 9999, 9999],\n",
              "  [9999, 9999, 9999, 9999, 9999, 9999, 9999],\n",
              "  [9999, 9999, 9999, 9999, 9999, 9999, 9999],\n",
              "  [9999, 9999, 9999, 9999, 9999, 9999, 9999],\n",
              "  [9999, 9999, 9999, 9999, 9999, 9999, 9999],\n",
              "  [9999, 9999, 9999, 9999, 9999, 9999, 9999]],\n",
              " [['X', 0, 1, 2, 3, 4, 5],\n",
              "  ['X', 'X', 'X', 'X', 'X', 'X', 'X'],\n",
              "  ['X', 'X', 'X', 'X', 'X', 'X', 'X'],\n",
              "  ['X', 'X', 'X', 'X', 'X', 'X', 'X'],\n",
              "  ['X', 'X', 'X', 'X', 'X', 'X', 'X'],\n",
              "  ['X', 'X', 'X', 'X', 'X', 'X', 'X'],\n",
              "  ['X', 'X', 'X', 'X', 'X', 'X', 'X']])"
            ]
          },
          "metadata": {
            "tags": []
          },
          "execution_count": 147
        }
      ]
    },
    {
      "metadata": {
        "id": "9t6F4GxNRZBM",
        "colab_type": "code",
        "colab": {}
      },
      "cell_type": "code",
      "source": [
        ""
      ],
      "execution_count": 0,
      "outputs": []
    }
  ]
}