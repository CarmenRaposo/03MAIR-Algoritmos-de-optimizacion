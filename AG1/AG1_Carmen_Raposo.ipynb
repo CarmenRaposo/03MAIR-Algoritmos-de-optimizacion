{
  "nbformat": 4,
  "nbformat_minor": 0,
  "metadata": {
    "colab": {
      "name": "AG1-Carmen_Raposo.ipynb",
      "version": "0.3.2",
      "provenance": [],
      "collapsed_sections": [],
      "include_colab_link": true
    },
    "kernelspec": {
      "name": "python3",
      "display_name": "Python 3"
    }
  },
  "cells": [
    {
      "cell_type": "markdown",
      "metadata": {
        "id": "view-in-github",
        "colab_type": "text"
      },
      "source": [
        "<a href=\"https://colab.research.google.com/github/CarmenRaposo/03MAIR-Algoritmos-de-optimizacion/blob/master/AG1/AG1_Carmen_Raposo.ipynb\" target=\"_parent\"><img src=\"https://colab.research.google.com/assets/colab-badge.svg\" alt=\"Open In Colab\"/></a>"
      ]
    },
    {
      "metadata": {
        "id": "1Kxt2KUvbKiK",
        "colab_type": "text"
      },
      "cell_type": "markdown",
      "source": [
        "AG - Actividad Guidada 1 <br/> Carmen Raposo <br/> https://github.com/CarmenRaposo/03MAIR-Algoritmos-de-optimizacion/tree/master/AG1"
      ]
    },
    {
      "metadata": {
        "id": "My2z0mduhBu0",
        "colab_type": "text"
      },
      "cell_type": "markdown",
      "source": [
        "Comenzamos implementando el algoritmo **Quick Sort ** de tipo *Divide y Vencerás*"
      ]
    },
    {
      "metadata": {
        "id": "wPCSY4JXcBNv",
        "colab_type": "code",
        "colab": {
          "base_uri": "https://localhost:8080/",
          "height": 697
        },
        "outputId": "b29e6ce3-f30f-4f66-a021-d92caa2f1d88"
      },
      "cell_type": "code",
      "source": [
        "#quick sort\n",
        "\n",
        "import statistics\n",
        "\n",
        "A = [9187, 244, 4054, 9222, 8373, 4993, 5265, 5470, 4519, 7182, 2035, 3506, 4337, 7580, 2554, 2824, 8357, 4447, 7379]\n",
        "\n",
        "@calcular_tiempo\n",
        "def quick_sort(A):\n",
        "  #A: list of numbers\n",
        "  \n",
        "  if len(A)==1:\n",
        "    return A\n",
        "  elif len(A)==2:\n",
        "    return [min(A),max(A)]\n",
        "  \n",
        "  #Create two empty lists where we will allocate the elements in function of the pivot\n",
        "  Left=[]\n",
        "  Right=[]\n",
        "  \n",
        "  #Define a pivot\n",
        "  pivot = (A[0]+A[1]+A[2])/3\n",
        "  \n",
        "  #Classify the list numbers relied on the pivot\n",
        "  \n",
        "  for i in A:\n",
        "    if i < pivot :\n",
        "      Left.append(i)\n",
        "    else:\n",
        "      Right.append(i)\n",
        "  \n",
        "  return quick_sort(Left) + quick_sort(Right)\n",
        "\n",
        "quick_sort(A)"
      ],
      "execution_count": 45,
      "outputs": [
        {
          "output_type": "stream",
          "text": [
            "Tiempo de ejecución para algoritmo: 3.0994415283203125e-06\n",
            "Tiempo de ejecución para algoritmo: 1.9073486328125e-06\n",
            "Tiempo de ejecución para algoritmo: 9.5367431640625e-07\n",
            "Tiempo de ejecución para algoritmo: 0.0005359649658203125\n",
            "Tiempo de ejecución para algoritmo: 4.76837158203125e-07\n",
            "Tiempo de ejecución para algoritmo: 1.9073486328125e-06\n",
            "Tiempo de ejecución para algoritmo: 0.0001964569091796875\n",
            "Tiempo de ejecución para algoritmo: 0.0009293556213378906\n",
            "Tiempo de ejecución para algoritmo: 0.0017170906066894531\n",
            "Tiempo de ejecución para algoritmo: 1.430511474609375e-06\n",
            "Tiempo de ejecución para algoritmo: 1.1920928955078125e-06\n",
            "Tiempo de ejecución para algoritmo: 0.00023794174194335938\n",
            "Tiempo de ejecución para algoritmo: 1.9073486328125e-06\n",
            "Tiempo de ejecución para algoritmo: 4.76837158203125e-07\n",
            "Tiempo de ejecución para algoritmo: 0.000186920166015625\n",
            "Tiempo de ejecución para algoritmo: 1.6689300537109375e-06\n",
            "Tiempo de ejecución para algoritmo: 0.0003647804260253906\n",
            "Tiempo de ejecución para algoritmo: 0.0009143352508544922\n",
            "Tiempo de ejecución para algoritmo: 1.430511474609375e-06\n",
            "Tiempo de ejecución para algoritmo: 0.00109100341796875\n",
            "Tiempo de ejecución para algoritmo: 0.003003835678100586\n"
          ],
          "name": "stdout"
        },
        {
          "output_type": "execute_result",
          "data": {
            "text/plain": [
              "[244,\n",
              " 2035,\n",
              " 2554,\n",
              " 2824,\n",
              " 3506,\n",
              " 4054,\n",
              " 4337,\n",
              " 4447,\n",
              " 4519,\n",
              " 4993,\n",
              " 5265,\n",
              " 5470,\n",
              " 7182,\n",
              " 7379,\n",
              " 7580,\n",
              " 8357,\n",
              " 8373,\n",
              " 9187,\n",
              " 9222]"
            ]
          },
          "metadata": {
            "tags": []
          },
          "execution_count": 45
        }
      ]
    },
    {
      "metadata": {
        "id": "SmBN0PhMf4pp",
        "colab_type": "code",
        "colab": {}
      },
      "cell_type": "code",
      "source": [
        "#Decorador para calcular_tiempo a la función para la cual queremos calcular el tiempo de ejecución(Isabel Vázquez)\n",
        "\n",
        "from time import time\n",
        "\n",
        "#Función para calcular el tiempo de ejecución\n",
        "def calcular_tiempo(f):\n",
        "   \n",
        "    def wrapper(*args, **kwargs):\n",
        "        inicio = time()       \n",
        "        resultado = f(*args, **kwargs)       \n",
        "        tiempo = time() - inicio\n",
        "        print(\"Tiempo de ejecución para algoritmo: \"+str(tiempo))\n",
        "        return resultado\n",
        "    \n",
        "    return wrapper\n",
        "from time import time\n",
        "                \n",
        "          "
      ],
      "execution_count": 0,
      "outputs": []
    },
    {
      "metadata": {
        "id": "OqZ5vM5DkZgi",
        "colab_type": "text"
      },
      "cell_type": "markdown",
      "source": [
        "Mostramos a continuación la resolución del problema **Cambio de Monedas** mediante un algoritmo *Voraz*"
      ]
    },
    {
      "metadata": {
        "id": "5bvdQm6jkbtO",
        "colab_type": "code",
        "colab": {
          "base_uri": "https://localhost:8080/",
          "height": 34
        },
        "outputId": "c2eae4eb-52bb-4790-95db-ec968110a48b"
      },
      "cell_type": "code",
      "source": [
        "def money_change(Amount,Money_Syst):\n",
        "  #Amount: Total amount to reach\n",
        "  #Money_Syst: Monetarian system on which we are going to rely\n",
        "  \n",
        "  \n",
        "  #Initial values of the variables\n",
        "  Solution=[0]*len(Money_Syst) \n",
        "  Acc_amount = 0\n",
        "  \n",
        "  #Calculate the number of coins needed to reach the desireable total amount\n",
        "  \n",
        "  for i in range(len(Money_Syst)):\n",
        "    coins = int((Amount-Acc_amount)/Money_Syst[i])\n",
        "    \n",
        "    Solution[i]=coins\n",
        "    Acc_amount += coins*Money_Syst[i]\n",
        "    \n",
        "    if Acc_amount==Amount:\n",
        "      return Solution\n",
        "\n",
        "MS=[25,10,5,1] #Sistema monetario que vamos a usar\n",
        "money_change(99,MS)"
      ],
      "execution_count": 22,
      "outputs": [
        {
          "output_type": "execute_result",
          "data": {
            "text/plain": [
              "[3, 2, 0, 4]"
            ]
          },
          "metadata": {
            "tags": []
          },
          "execution_count": 22
        }
      ]
    },
    {
      "metadata": {
        "id": "Ks9dnvv6n9Fq",
        "colab_type": "text"
      },
      "cell_type": "markdown",
      "source": [
        "Y por último, antes del problema individual, resolveremos el **Problema de las Reinas ** mediante un algoritmo con la técnica *Vuelta Atrás*"
      ]
    },
    {
      "metadata": {
        "id": "OqWXleR-oPXb",
        "colab_type": "code",
        "colab": {
          "base_uri": "https://localhost:8080/",
          "height": 51
        },
        "outputId": "685a736e-a404-4f28-a8f2-45582f4ddaab"
      },
      "cell_type": "code",
      "source": [
        "def Chess_Queens(N):\n",
        "  #N: N queens on a NxN chess board\n",
        "  \n",
        "  #Initialize the variables\n",
        "  solution=[0]*N\n",
        "  phase=0\n",
        "  \n",
        "  #Function to know if we have a good solution or not\n",
        "  def is_promising(solution,phase):\n",
        "    #solution: array with the positions of the queens\n",
        "    #phase: phase of the solution where we are (respect the number of queens)\n",
        "        \n",
        "    for i in range(phase+1):\n",
        "      #Check if two queens are not in the same column\n",
        "      if solution.count(solution[i])>1:\n",
        "        return False\n",
        "      \n",
        "      #Check if two queens are not in the same diagonal\n",
        "      for j in range(i+1, phase+1):\n",
        "        if abs(solution[i]-solution[j])==abs(i-j):\n",
        "          return False\n",
        "    \n",
        "    #If no pair of queens is in the same columns neither in the same diagonal\n",
        "    return True\n",
        "  \n",
        "  #Function to calculate the position of the queens\n",
        "  def Pos_Queens(N,solution,phase):\n",
        "    #N: N queens on a NxN chess board\n",
        "    #solution: array with the positions of the queens\n",
        "    #phase: phase of the solution where we are (respect the number of queens)\n",
        "    \n",
        "    #We try to find all the posible solutions\n",
        "    for i in range(1,N+1):\n",
        "      solution[phase]=i\n",
        "    \n",
        "      if is_promising(solution,phase):\n",
        "        #Final phase\n",
        "        if phase==N-1:\n",
        "          print(solution)\n",
        "          \n",
        "        #Next phase\n",
        "        else:\n",
        "          Pos_Queens(N,solution,phase+1)\n",
        "      \n",
        "      #If is not promising\n",
        "      else:\n",
        "        None\n",
        "        \n",
        "      solution[phase] = 0\n",
        "      \n",
        "  Pos_Queens(N,solution,phase)\n",
        "          \n",
        "      \n",
        "Chess_Queens(4) \n",
        "  "
      ],
      "execution_count": 42,
      "outputs": [
        {
          "output_type": "stream",
          "text": [
            "[2, 4, 1, 3]\n",
            "[3, 1, 4, 2]\n"
          ],
          "name": "stdout"
        }
      ]
    },
    {
      "metadata": {
        "id": "JB2v_jjuaG81",
        "colab_type": "text"
      },
      "cell_type": "markdown",
      "source": [
        "**Problema de los puntos más cercanos:**\n",
        "<br/>Dado un conjunto de puntos se trata de encontrar los dos puntos más cercanos\n",
        "\n"
      ]
    },
    {
      "metadata": {
        "id": "rTBxMn6raFxc",
        "colab_type": "code",
        "colab": {}
      },
      "cell_type": "code",
      "source": [
        "#Primero generaremos un conjunto 1D de puntos\n",
        "\n",
        "import random\n",
        "D1_points = [random.randrange(1,10000) for x in range(1000)]"
      ],
      "execution_count": 0,
      "outputs": []
    },
    {
      "metadata": {
        "id": "ra5x7MTTbDvx",
        "colab_type": "text"
      },
      "cell_type": "markdown",
      "source": [
        "Primer intento: **Fuerza bruta**"
      ]
    },
    {
      "metadata": {
        "id": "j_YUG4uQaF7y",
        "colab_type": "code",
        "colab": {
          "base_uri": "https://localhost:8080/",
          "height": 34
        },
        "outputId": "a85d7428-4cb6-41f7-c53b-3c223b77d681"
      },
      "cell_type": "code",
      "source": [
        "def BruteForce (points):\n",
        "  \n",
        "  min_dist=10000\n",
        "  for i in points[:-1]:\n",
        "    for j in points[i+1:]:\n",
        "      if i!=j:\n",
        "        dist=abs(i-j)\n",
        "        if dist<min_dist:\n",
        "          min_dist=dist\n",
        "          i_min=i\n",
        "          j_min=j\n",
        "  return min_dist, (i_min,j_min)\n",
        "\n",
        "BruteForce(D1_points)    "
      ],
      "execution_count": 24,
      "outputs": [
        {
          "output_type": "execute_result",
          "data": {
            "text/plain": [
              "(1, (388, 389))"
            ]
          },
          "metadata": {
            "tags": []
          },
          "execution_count": 24
        }
      ]
    },
    {
      "metadata": {
        "id": "Vh5YZlpbjcME",
        "colab_type": "text"
      },
      "cell_type": "markdown",
      "source": [
        "**Complejidad** del algoritmo de fuerza bruta: $n^2$ <br/>\n",
        "¿Puede mejorarse? Sí, se puede hacer lineal si primero ordenamos la lista y solo comparamos cada elemento con el siguiente."
      ]
    },
    {
      "metadata": {
        "id": "bEe6CrqpnTlA",
        "colab_type": "text"
      },
      "cell_type": "markdown",
      "source": [
        "Segundo intento: **Divide y vencerás**"
      ]
    },
    {
      "metadata": {
        "id": "OrADgQlHjtYw",
        "colab_type": "code",
        "colab": {}
      },
      "cell_type": "code",
      "source": [
        ""
      ],
      "execution_count": 0,
      "outputs": []
    }
  ]
}