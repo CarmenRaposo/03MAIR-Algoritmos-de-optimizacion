{
  "nbformat": 4,
  "nbformat_minor": 0,
  "metadata": {
    "colab": {
      "name": "AG1-Carmen_Raposo.ipynb",
      "version": "0.3.2",
      "provenance": [],
      "collapsed_sections": [],
      "include_colab_link": true
    },
    "kernelspec": {
      "name": "python3",
      "display_name": "Python 3"
    }
  },
  "cells": [
    {
      "cell_type": "markdown",
      "metadata": {
        "id": "view-in-github",
        "colab_type": "text"
      },
      "source": [
        "<a href=\"https://colab.research.google.com/github/CarmenRaposo/03MAIR-Algoritmos-de-optimizacion/blob/master/AG1/AG1_Carmen_Raposo.ipynb\" target=\"_parent\"><img src=\"https://colab.research.google.com/assets/colab-badge.svg\" alt=\"Open In Colab\"/></a>"
      ]
    },
    {
      "metadata": {
        "id": "1Kxt2KUvbKiK",
        "colab_type": "text"
      },
      "cell_type": "markdown",
      "source": [
        "AG - Actividad Guidada 1 <br/> Carmen Raposo <br/> https://github.com/CarmenRaposo/03MAIR-Algoritmos-de-optimizacion/tree/master/AG1"
      ]
    },
    {
      "metadata": {
        "id": "My2z0mduhBu0",
        "colab_type": "text"
      },
      "cell_type": "markdown",
      "source": [
        "Comenzamos implementando el algoritmo **Quick Sort ** de tipo *Divide y Vencerás*"
      ]
    },
    {
      "metadata": {
        "id": "wPCSY4JXcBNv",
        "colab_type": "code",
        "outputId": "d874a307-b47b-4087-f179-dbcab355febc",
        "colab": {
          "base_uri": "https://localhost:8080/",
          "height": 340
        }
      },
      "cell_type": "code",
      "source": [
        "#quick sort\n",
        "\n",
        "import statistics\n",
        "\n",
        "A = [9187, 244, 4054, 9222, 8373, 4993, 5265, 5470, 4519, 7182, 2035, 3506, 4337, 7580, 2554, 2824, 8357, 4447, 7379]\n",
        "\n",
        "#@calcular_tiempo\n",
        "def quick_sort(num_list):\n",
        "  #num_list: list of numbers\n",
        "  \n",
        "  if len(num_list)==1:\n",
        "    return num_list\n",
        "  elif len(num_list)==2:\n",
        "    return [min(num_list),max(num_list)]\n",
        "  \n",
        "  elif len(num_list)!=0:\n",
        "    #Create two empty lists where we will allocate the elements in function of the pivot\n",
        "    Left=[]\n",
        "    Right=[]\n",
        "\n",
        "    #Define a pivot\n",
        "    #print(num_list)\n",
        "    pivot = (num_list[0]+num_list[1]+num_list[2])/3\n",
        "\n",
        "    #Classify the list numbers relied on the pivot\n",
        "\n",
        "    for i in num_list:\n",
        "      if i < pivot :\n",
        "        Left.append(i)\n",
        "      else:\n",
        "        Right.append(i)\n",
        "  \n",
        "    return quick_sort(Left) + quick_sort(Right)\n",
        "\n",
        "quick_sort(A)"
      ],
      "execution_count": 0,
      "outputs": [
        {
          "output_type": "execute_result",
          "data": {
            "text/plain": [
              "[244,\n",
              " 2035,\n",
              " 2554,\n",
              " 2824,\n",
              " 3506,\n",
              " 4054,\n",
              " 4337,\n",
              " 4447,\n",
              " 4519,\n",
              " 4993,\n",
              " 5265,\n",
              " 5470,\n",
              " 7182,\n",
              " 7379,\n",
              " 7580,\n",
              " 8357,\n",
              " 8373,\n",
              " 9187,\n",
              " 9222]"
            ]
          },
          "metadata": {
            "tags": []
          },
          "execution_count": 1
        }
      ]
    },
    {
      "metadata": {
        "id": "SmBN0PhMf4pp",
        "colab_type": "code",
        "colab": {}
      },
      "cell_type": "code",
      "source": [
        "#Decorador para calcular_tiempo a la función para la cual queremos calcular el tiempo de ejecución(Isabel Vázquez)\n",
        "\n",
        "from time import time\n",
        "\n",
        "#Función para calcular el tiempo de ejecución\n",
        "def calcular_tiempo(f):\n",
        "   \n",
        "    def wrapper(*args, **kwargs):\n",
        "        inicio = time()       \n",
        "        resultado = f(*args, **kwargs)       \n",
        "        tiempo = time() - inicio\n",
        "        print(\"Tiempo de ejecución para algoritmo: \"+str(tiempo))\n",
        "        return resultado\n",
        "    \n",
        "    return wrapper\n",
        "from time import time\n",
        "                \n",
        "          "
      ],
      "execution_count": 0,
      "outputs": []
    },
    {
      "metadata": {
        "id": "OqZ5vM5DkZgi",
        "colab_type": "text"
      },
      "cell_type": "markdown",
      "source": [
        "Mostramos a continuación la resolución del problema **Cambio de Monedas** mediante un algoritmo *Voraz*"
      ]
    },
    {
      "metadata": {
        "id": "5bvdQm6jkbtO",
        "colab_type": "code",
        "outputId": "bfef1d98-7de0-4e1f-e158-5fe7db6af6b3",
        "colab": {
          "base_uri": "https://localhost:8080/",
          "height": 34
        }
      },
      "cell_type": "code",
      "source": [
        "def money_change(Amount,Money_Syst):\n",
        "  #Amount: Total amount to reach\n",
        "  #Money_Syst: Monetarian system on which we are going to rely\n",
        "  \n",
        "  \n",
        "  #Initial values of the variables\n",
        "  Solution=[0]*len(Money_Syst) \n",
        "  Acc_amount = 0\n",
        "  \n",
        "  #Calculate the number of coins needed to reach the desireable total amount\n",
        "  \n",
        "  for i in range(len(Money_Syst)):\n",
        "    coins = int((Amount-Acc_amount)/Money_Syst[i])\n",
        "    \n",
        "    Solution[i]=coins\n",
        "    Acc_amount += coins*Money_Syst[i]\n",
        "    \n",
        "    if Acc_amount==Amount:\n",
        "      return Solution\n",
        "\n",
        "MS=[25,10,5,1] #Sistema monetario que vamos a usar\n",
        "money_change(99,MS)"
      ],
      "execution_count": 0,
      "outputs": [
        {
          "output_type": "execute_result",
          "data": {
            "text/plain": [
              "[3, 2, 0, 4]"
            ]
          },
          "metadata": {
            "tags": []
          },
          "execution_count": 3
        }
      ]
    },
    {
      "metadata": {
        "id": "Ks9dnvv6n9Fq",
        "colab_type": "text"
      },
      "cell_type": "markdown",
      "source": [
        "Y por último, antes del problema individual, resolveremos el **Problema de las Reinas ** mediante un algoritmo con la técnica *Vuelta Atrás*"
      ]
    },
    {
      "metadata": {
        "id": "OqWXleR-oPXb",
        "colab_type": "code",
        "outputId": "17337a7c-10bb-4038-b150-77c6d66c5c42",
        "colab": {
          "base_uri": "https://localhost:8080/",
          "height": 51
        }
      },
      "cell_type": "code",
      "source": [
        "def Chess_Queens(N):\n",
        "  #N: N queens on a NxN chess board\n",
        "  \n",
        "  #Initialize the variables\n",
        "  solution=[0]*N\n",
        "  phase=0\n",
        "  \n",
        "  #Function to know if we have a good solution or not\n",
        "  def is_promising(solution,phase):\n",
        "    #solution: array with the positions of the queens\n",
        "    #phase: phase of the solution where we are (respect the number of queens)\n",
        "        \n",
        "    for i in range(phase+1):\n",
        "      #Check if two queens are not in the same column\n",
        "      if solution.count(solution[i])>1:\n",
        "        return False\n",
        "      \n",
        "      #Check if two queens are not in the same diagonal\n",
        "      for j in range(i+1, phase+1):\n",
        "        if abs(solution[i]-solution[j])==abs(i-j):\n",
        "          return False\n",
        "    \n",
        "    #If no pair of queens is in the same columns neither in the same diagonal\n",
        "    return True\n",
        "  \n",
        "  #Function to calculate the position of the queens\n",
        "  def Pos_Queens(N,solution,phase):\n",
        "    #N: N queens on a NxN chess board\n",
        "    #solution: array with the positions of the queens\n",
        "    #phase: phase of the solution where we are (respect the number of queens)\n",
        "    \n",
        "    #We try to find all the posible solutions\n",
        "    for i in range(1,N+1):\n",
        "      solution[phase]=i\n",
        "    \n",
        "      if is_promising(solution,phase):\n",
        "        #Final phase\n",
        "        if phase==N-1:\n",
        "          print(solution)\n",
        "          \n",
        "        #Next phase\n",
        "        else:\n",
        "          Pos_Queens(N,solution,phase+1)\n",
        "      \n",
        "      #If is not promising\n",
        "      else:\n",
        "        None\n",
        "        \n",
        "      solution[phase] = 0\n",
        "      \n",
        "  Pos_Queens(N,solution,phase)\n",
        "          \n",
        "      \n",
        "Chess_Queens(4) \n",
        "  "
      ],
      "execution_count": 0,
      "outputs": [
        {
          "output_type": "stream",
          "text": [
            "[2, 4, 1, 3]\n",
            "[3, 1, 4, 2]\n"
          ],
          "name": "stdout"
        }
      ]
    }
  ]
}